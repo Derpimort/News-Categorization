{
 "cells": [
  {
   "cell_type": "code",
   "execution_count": 1,
   "metadata": {},
   "outputs": [],
   "source": [
    "import json\n",
    "import numpy as np\n",
    "import pandas as pd\n",
    "import plotly.express as px\n",
    "import plotly.graph_objects as go\n",
    "DATA_DIR=\"data/cleaned/\""
   ]
  },
  {
   "cell_type": "code",
   "execution_count": null,
   "metadata": {},
   "outputs": [],
   "source": [
    "# import plotly.io as pio\n",
    "# pio.renderers.default = 'browser'"
   ]
  },
  {
   "cell_type": "code",
   "execution_count": 2,
   "metadata": {},
   "outputs": [],
   "source": [
    "# india_states = json.load(open(\"data/india_state.geojson\", \"r\"))\n",
    "india_states = json.load(open(\"data/vis/states_india.geojson\", \"r\"))\n",
    "state_id_map = {}\n",
    "for feature in india_states[\"features\"]:\n",
    "    feature[\"id\"] = feature[\"properties\"][\"state_code\"]\n",
    "    state_id_map[feature[\"properties\"][\"st_nm\"]] = feature[\"id\"]"
   ]
  },
  {
   "cell_type": "code",
   "execution_count": 3,
   "metadata": {},
   "outputs": [
    {
     "output_type": "execute_result",
     "data": {
      "text/plain": "     lat    long  freq\n0  7.030  93.790     4\n1  7.944  93.575     1\n2  8.000  93.500     6\n3  8.088  77.542    57\n4  8.118  77.281   122",
      "text/html": "<div>\n<style scoped>\n    .dataframe tbody tr th:only-of-type {\n        vertical-align: middle;\n    }\n\n    .dataframe tbody tr th {\n        vertical-align: top;\n    }\n\n    .dataframe thead th {\n        text-align: right;\n    }\n</style>\n<table border=\"1\" class=\"dataframe\">\n  <thead>\n    <tr style=\"text-align: right;\">\n      <th></th>\n      <th>lat</th>\n      <th>long</th>\n      <th>freq</th>\n    </tr>\n  </thead>\n  <tbody>\n    <tr>\n      <th>0</th>\n      <td>7.030</td>\n      <td>93.790</td>\n      <td>4</td>\n    </tr>\n    <tr>\n      <th>1</th>\n      <td>7.944</td>\n      <td>93.575</td>\n      <td>1</td>\n    </tr>\n    <tr>\n      <th>2</th>\n      <td>8.000</td>\n      <td>93.500</td>\n      <td>6</td>\n    </tr>\n    <tr>\n      <th>3</th>\n      <td>8.088</td>\n      <td>77.542</td>\n      <td>57</td>\n    </tr>\n    <tr>\n      <th>4</th>\n      <td>8.118</td>\n      <td>77.281</td>\n      <td>122</td>\n    </tr>\n  </tbody>\n</table>\n</div>"
     },
     "metadata": {},
     "execution_count": 3
    }
   ],
   "source": [
    "df = pd.read_csv(DATA_DIR+\"latlong.csv\")\n",
    "df['lat'] = df['lat'].round(3)\n",
    "df['long'] = df['long'].round(3)\n",
    "coords=df.groupby(['lat','long']).size().reset_index(name=\"freq\")\n",
    "coords.head()"
   ]
  },
  {
   "cell_type": "code",
   "execution_count": 4,
   "metadata": {},
   "outputs": [
    {
     "output_type": "execute_result",
     "data": {
      "text/plain": "   index   freq      state_name    id\n0  IN.36  77833   Uttar Pradesh   9.0\n1  IN.35  66156  Madhya Pradesh  23.0\n3  IN.16  29360     Maharashtra  27.0\n4  IN.34  24651           Bihar  10.0\n5  IN.21  12875          Odisha  21.0",
      "text/html": "<div>\n<style scoped>\n    .dataframe tbody tr th:only-of-type {\n        vertical-align: middle;\n    }\n\n    .dataframe tbody tr th {\n        vertical-align: top;\n    }\n\n    .dataframe thead th {\n        text-align: right;\n    }\n</style>\n<table border=\"1\" class=\"dataframe\">\n  <thead>\n    <tr style=\"text-align: right;\">\n      <th></th>\n      <th>index</th>\n      <th>freq</th>\n      <th>state_name</th>\n      <th>id</th>\n    </tr>\n  </thead>\n  <tbody>\n    <tr>\n      <th>0</th>\n      <td>IN.36</td>\n      <td>77833</td>\n      <td>Uttar Pradesh</td>\n      <td>9.0</td>\n    </tr>\n    <tr>\n      <th>1</th>\n      <td>IN.35</td>\n      <td>66156</td>\n      <td>Madhya Pradesh</td>\n      <td>23.0</td>\n    </tr>\n    <tr>\n      <th>3</th>\n      <td>IN.16</td>\n      <td>29360</td>\n      <td>Maharashtra</td>\n      <td>27.0</td>\n    </tr>\n    <tr>\n      <th>4</th>\n      <td>IN.34</td>\n      <td>24651</td>\n      <td>Bihar</td>\n      <td>10.0</td>\n    </tr>\n    <tr>\n      <th>5</th>\n      <td>IN.21</td>\n      <td>12875</td>\n      <td>Odisha</td>\n      <td>21.0</td>\n    </tr>\n  </tbody>\n</table>\n</div>"
     },
     "metadata": {},
     "execution_count": 4
    }
   ],
   "source": [
    "state_codes = pd.read_csv(DATA_DIR+\"../vis/admin1CodesASCII.txt\", delimiter=\"\\t\", names=['state_name', 'state_name2', 'pincode'])\n",
    "states = df['state_name'].value_counts().reset_index(name='freq')\n",
    "states['index'] = states['index'].apply(lambda x: 'IN.%.2d'%x)\n",
    "states = states.join(state_codes['state_name'], on='index')\n",
    "states['state_name'] = states['state_name'].str.replace(\" and \", \" & \")\n",
    "\n",
    "# Some discrepancies, require manual editing\n",
    "states['id']=states['state_name'].map(state_id_map)\n",
    "states.dropna(inplace=True)\n",
    "states.head()"
   ]
  },
  {
   "cell_type": "code",
   "execution_count": 5,
   "metadata": {},
   "outputs": [
    {
     "output_type": "execute_result",
     "data": {
      "text/plain": "   index   freq      state_name    id    scaled\n0  IN.36  77833   Uttar Pradesh   9.0  4.891164\n1  IN.35  66156  Madhya Pradesh  23.0  4.820569\n3  IN.16  29360     Maharashtra  27.0  4.467756\n4  IN.34  24651           Bihar  10.0  4.391835\n5  IN.21  12875          Odisha  21.0  4.109747",
      "text/html": "<div>\n<style scoped>\n    .dataframe tbody tr th:only-of-type {\n        vertical-align: middle;\n    }\n\n    .dataframe tbody tr th {\n        vertical-align: top;\n    }\n\n    .dataframe thead th {\n        text-align: right;\n    }\n</style>\n<table border=\"1\" class=\"dataframe\">\n  <thead>\n    <tr style=\"text-align: right;\">\n      <th></th>\n      <th>index</th>\n      <th>freq</th>\n      <th>state_name</th>\n      <th>id</th>\n      <th>scaled</th>\n    </tr>\n  </thead>\n  <tbody>\n    <tr>\n      <th>0</th>\n      <td>IN.36</td>\n      <td>77833</td>\n      <td>Uttar Pradesh</td>\n      <td>9.0</td>\n      <td>4.891164</td>\n    </tr>\n    <tr>\n      <th>1</th>\n      <td>IN.35</td>\n      <td>66156</td>\n      <td>Madhya Pradesh</td>\n      <td>23.0</td>\n      <td>4.820569</td>\n    </tr>\n    <tr>\n      <th>3</th>\n      <td>IN.16</td>\n      <td>29360</td>\n      <td>Maharashtra</td>\n      <td>27.0</td>\n      <td>4.467756</td>\n    </tr>\n    <tr>\n      <th>4</th>\n      <td>IN.34</td>\n      <td>24651</td>\n      <td>Bihar</td>\n      <td>10.0</td>\n      <td>4.391835</td>\n    </tr>\n    <tr>\n      <th>5</th>\n      <td>IN.21</td>\n      <td>12875</td>\n      <td>Odisha</td>\n      <td>21.0</td>\n      <td>4.109747</td>\n    </tr>\n  </tbody>\n</table>\n</div>"
     },
     "metadata": {},
     "execution_count": 5
    }
   ],
   "source": [
    "from sklearn import preprocessing\n",
    "\n",
    "states['scaled']=np.log10(states['freq'])\n",
    "coords['scaled']=np.log10(coords['freq'])\n",
    "coords['scaled']=preprocessing.minmax_scale(coords['scaled'], (0,1))\n",
    "states.head()"
   ]
  },
  {
   "cell_type": "code",
   "execution_count": 6,
   "metadata": {},
   "outputs": [
    {
     "output_type": "execute_result",
     "data": {
      "text/plain": "    index   freq        state_name    id    scaled\n0   IN.36  77833     Uttar Pradesh   9.0  4.891164\n1   IN.35  66156    Madhya Pradesh  23.0  4.820569\n3   IN.16  29360       Maharashtra  27.0  4.467756\n4   IN.34  24651             Bihar  10.0  4.391835\n5   IN.21  12875            Odisha  21.0  4.109747\n6   IN.38  12753         Jharkhand  20.0  4.105612\n7   IN.25  11876        Tamil Nadu  33.0  4.074670\n8   IN.19  10286         Karnataka  29.0  4.012247\n9   IN.28   9345       West Bengal  19.0  3.970579\n10  IN.24   8817         Rajasthan   8.0  3.945321\n11  IN.02   8383    Andhra Pradesh  28.0  3.923399\n12  IN.12   7670   Jammu & Kashmir   1.0  3.884795\n13  IN.39   6727       Uttarakhand   5.0  3.827821\n14  IN.11   6452  Himachal Pradesh   2.0  3.809694\n15  IN.10   5923           Haryana   6.0  3.772542\n16  IN.23   4766            Punjab   3.0  3.678154\n17  IN.40   3931         Telangana   0.0  3.594503\n18  IN.03   3732             Assam  18.0  3.571942\n19  IN.09   3669           Gujarat  24.0  3.564548\n20  IN.37   3636      Chhattisgarh  22.0  3.560624\n21  IN.13   2592            Kerala  32.0  3.413635\n23  IN.33    845               Goa  30.0  2.926857\n24  IN.05    626        Chandigarh   4.0  2.796574\n25  IN.22    322        Puducherry  34.0  2.507856\n27  IN.26    144           Tripura  16.0  2.158362\n29  IN.17    135           Manipur  14.0  2.130334\n30  IN.31     65           Mizoram  15.0  1.812913\n31  IN.29     61            Sikkim  11.0  1.785330\n32  IN.18     48         Meghalaya  17.0  1.681241\n35  IN.20     12          Nagaland  13.0  1.079181",
      "text/html": "<div>\n<style scoped>\n    .dataframe tbody tr th:only-of-type {\n        vertical-align: middle;\n    }\n\n    .dataframe tbody tr th {\n        vertical-align: top;\n    }\n\n    .dataframe thead th {\n        text-align: right;\n    }\n</style>\n<table border=\"1\" class=\"dataframe\">\n  <thead>\n    <tr style=\"text-align: right;\">\n      <th></th>\n      <th>index</th>\n      <th>freq</th>\n      <th>state_name</th>\n      <th>id</th>\n      <th>scaled</th>\n    </tr>\n  </thead>\n  <tbody>\n    <tr>\n      <th>0</th>\n      <td>IN.36</td>\n      <td>77833</td>\n      <td>Uttar Pradesh</td>\n      <td>9.0</td>\n      <td>4.891164</td>\n    </tr>\n    <tr>\n      <th>1</th>\n      <td>IN.35</td>\n      <td>66156</td>\n      <td>Madhya Pradesh</td>\n      <td>23.0</td>\n      <td>4.820569</td>\n    </tr>\n    <tr>\n      <th>3</th>\n      <td>IN.16</td>\n      <td>29360</td>\n      <td>Maharashtra</td>\n      <td>27.0</td>\n      <td>4.467756</td>\n    </tr>\n    <tr>\n      <th>4</th>\n      <td>IN.34</td>\n      <td>24651</td>\n      <td>Bihar</td>\n      <td>10.0</td>\n      <td>4.391835</td>\n    </tr>\n    <tr>\n      <th>5</th>\n      <td>IN.21</td>\n      <td>12875</td>\n      <td>Odisha</td>\n      <td>21.0</td>\n      <td>4.109747</td>\n    </tr>\n    <tr>\n      <th>6</th>\n      <td>IN.38</td>\n      <td>12753</td>\n      <td>Jharkhand</td>\n      <td>20.0</td>\n      <td>4.105612</td>\n    </tr>\n    <tr>\n      <th>7</th>\n      <td>IN.25</td>\n      <td>11876</td>\n      <td>Tamil Nadu</td>\n      <td>33.0</td>\n      <td>4.074670</td>\n    </tr>\n    <tr>\n      <th>8</th>\n      <td>IN.19</td>\n      <td>10286</td>\n      <td>Karnataka</td>\n      <td>29.0</td>\n      <td>4.012247</td>\n    </tr>\n    <tr>\n      <th>9</th>\n      <td>IN.28</td>\n      <td>9345</td>\n      <td>West Bengal</td>\n      <td>19.0</td>\n      <td>3.970579</td>\n    </tr>\n    <tr>\n      <th>10</th>\n      <td>IN.24</td>\n      <td>8817</td>\n      <td>Rajasthan</td>\n      <td>8.0</td>\n      <td>3.945321</td>\n    </tr>\n    <tr>\n      <th>11</th>\n      <td>IN.02</td>\n      <td>8383</td>\n      <td>Andhra Pradesh</td>\n      <td>28.0</td>\n      <td>3.923399</td>\n    </tr>\n    <tr>\n      <th>12</th>\n      <td>IN.12</td>\n      <td>7670</td>\n      <td>Jammu &amp; Kashmir</td>\n      <td>1.0</td>\n      <td>3.884795</td>\n    </tr>\n    <tr>\n      <th>13</th>\n      <td>IN.39</td>\n      <td>6727</td>\n      <td>Uttarakhand</td>\n      <td>5.0</td>\n      <td>3.827821</td>\n    </tr>\n    <tr>\n      <th>14</th>\n      <td>IN.11</td>\n      <td>6452</td>\n      <td>Himachal Pradesh</td>\n      <td>2.0</td>\n      <td>3.809694</td>\n    </tr>\n    <tr>\n      <th>15</th>\n      <td>IN.10</td>\n      <td>5923</td>\n      <td>Haryana</td>\n      <td>6.0</td>\n      <td>3.772542</td>\n    </tr>\n    <tr>\n      <th>16</th>\n      <td>IN.23</td>\n      <td>4766</td>\n      <td>Punjab</td>\n      <td>3.0</td>\n      <td>3.678154</td>\n    </tr>\n    <tr>\n      <th>17</th>\n      <td>IN.40</td>\n      <td>3931</td>\n      <td>Telangana</td>\n      <td>0.0</td>\n      <td>3.594503</td>\n    </tr>\n    <tr>\n      <th>18</th>\n      <td>IN.03</td>\n      <td>3732</td>\n      <td>Assam</td>\n      <td>18.0</td>\n      <td>3.571942</td>\n    </tr>\n    <tr>\n      <th>19</th>\n      <td>IN.09</td>\n      <td>3669</td>\n      <td>Gujarat</td>\n      <td>24.0</td>\n      <td>3.564548</td>\n    </tr>\n    <tr>\n      <th>20</th>\n      <td>IN.37</td>\n      <td>3636</td>\n      <td>Chhattisgarh</td>\n      <td>22.0</td>\n      <td>3.560624</td>\n    </tr>\n    <tr>\n      <th>21</th>\n      <td>IN.13</td>\n      <td>2592</td>\n      <td>Kerala</td>\n      <td>32.0</td>\n      <td>3.413635</td>\n    </tr>\n    <tr>\n      <th>23</th>\n      <td>IN.33</td>\n      <td>845</td>\n      <td>Goa</td>\n      <td>30.0</td>\n      <td>2.926857</td>\n    </tr>\n    <tr>\n      <th>24</th>\n      <td>IN.05</td>\n      <td>626</td>\n      <td>Chandigarh</td>\n      <td>4.0</td>\n      <td>2.796574</td>\n    </tr>\n    <tr>\n      <th>25</th>\n      <td>IN.22</td>\n      <td>322</td>\n      <td>Puducherry</td>\n      <td>34.0</td>\n      <td>2.507856</td>\n    </tr>\n    <tr>\n      <th>27</th>\n      <td>IN.26</td>\n      <td>144</td>\n      <td>Tripura</td>\n      <td>16.0</td>\n      <td>2.158362</td>\n    </tr>\n    <tr>\n      <th>29</th>\n      <td>IN.17</td>\n      <td>135</td>\n      <td>Manipur</td>\n      <td>14.0</td>\n      <td>2.130334</td>\n    </tr>\n    <tr>\n      <th>30</th>\n      <td>IN.31</td>\n      <td>65</td>\n      <td>Mizoram</td>\n      <td>15.0</td>\n      <td>1.812913</td>\n    </tr>\n    <tr>\n      <th>31</th>\n      <td>IN.29</td>\n      <td>61</td>\n      <td>Sikkim</td>\n      <td>11.0</td>\n      <td>1.785330</td>\n    </tr>\n    <tr>\n      <th>32</th>\n      <td>IN.18</td>\n      <td>48</td>\n      <td>Meghalaya</td>\n      <td>17.0</td>\n      <td>1.681241</td>\n    </tr>\n    <tr>\n      <th>35</th>\n      <td>IN.20</td>\n      <td>12</td>\n      <td>Nagaland</td>\n      <td>13.0</td>\n      <td>1.079181</td>\n    </tr>\n  </tbody>\n</table>\n</div>"
     },
     "metadata": {},
     "execution_count": 6
    }
   ],
   "source": [
    "states"
   ]
  },
  {
   "cell_type": "markdown",
   "metadata": {},
   "source": [
    "## MAIN"
   ]
  },
  {
   "cell_type": "code",
   "execution_count": null,
   "metadata": {},
   "outputs": [],
   "source": [
    "fig = px.choropleth_mapbox(\n",
    "    states,\n",
    "    locations=\"id\",\n",
    "    geojson=india_states,\n",
    "    color=\"scaled\",\n",
    "    hover_name=\"state_name\",\n",
    "    hover_data=[\"freq\"],\n",
    "    title=\"India Population Density\",\n",
    "    mapbox_style=\"carto-positron\",\n",
    "    center={\"lat\": 24, \"lon\": 78},\n",
    "    zoom=3,\n",
    "    opacity=0.5,\n",
    ")\n",
    "fig.show()"
   ]
  },
  {
   "cell_type": "markdown",
   "metadata": {},
   "source": [
    "## USeless"
   ]
  },
  {
   "cell_type": "code",
   "execution_count": null,
   "metadata": {},
   "outputs": [],
   "source": [
    "scl = [0,\"rgb(150,0,90)\"],[0.125,\"rgb(0, 0, 200)\"],[0.25,\"rgb(0, 25, 255)\"],\\\n",
    "[0.375,\"rgb(0, 152, 255)\"],[0.5,\"rgb(44, 255, 150)\"],[0.625,\"rgb(151, 255, 0)\"],\\\n",
    "[0.75,\"rgb(255, 234, 0)\"],[0.875,\"rgb(255, 111, 0)\"],[1,\"rgb(255, 0, 0)\"]\n",
    "\n",
    "fig = go.Figure(data=go.Scattergeo(\n",
    "    lon=coords['long'],\n",
    "    lat=coords['lat'],\n",
    "    text=coords['freq'].astype(str)+\" Mentions\",\n",
    "    geojson=india_states,\n",
    "    marker = dict(\n",
    "        color = coords['scaled'],\n",
    "        colorscale = scl,\n",
    "        reversescale = True,\n",
    "        opacity = coords['scaled']/1.5,\n",
    "        size = 20,\n",
    "        colorbar = dict(\n",
    "            titleside = \"right\",\n",
    "            outlinecolor = \"rgba(68, 68, 68, 0)\",\n",
    "            ticks = \"outside\",\n",
    "            showticksuffix = \"last\",\n",
    "            dtick = 0.1\n",
    "        )\n",
    "    )))\n",
    "\n",
    "fig.update_layout(\n",
    "    title=\"test\",\n",
    "    geo_scope=\"asia\")\n",
    "fig.show()"
   ]
  },
  {
   "cell_type": "markdown",
   "metadata": {},
   "source": [
    "## DEcent"
   ]
  },
  {
   "cell_type": "code",
   "execution_count": null,
   "metadata": {},
   "outputs": [],
   "source": [
    "fig = px.density_mapbox(coords, \n",
    "                        lat='lat', \n",
    "                        lon='long', \n",
    "                        z='freq', \n",
    "                        radius=20, \n",
    "                        center={\"lat\": 24, \"lon\": 78},\n",
    "                        zoom=5,\n",
    "                        mapbox_style=\"stamen-terrain\")\n",
    "\n",
    "fig.update_layout(title=\"Geographical mentions\")\n",
    "fig.show()"
   ]
  },
  {
   "cell_type": "markdown",
   "metadata": {},
   "source": [
    "## EPIC"
   ]
  },
  {
   "cell_type": "code",
   "execution_count": null,
   "metadata": {},
   "outputs": [],
   "source": [
    "fig = go.Figure(go.Densitymapbox(lat=coords['lat'], \n",
    "                        lon=coords['long'], \n",
    "                        z=coords['freq'], \n",
    "                        radius=20))\n",
    "fig.update_layout(mapbox_style=\"carto-darkmatter\", mapbox_center_lon=78, mapbox_center_lat=24, mapbox_zoom=2.8)\n",
    "fig.update_layout(margin={\"r\":100,\"t\":0,\"l\":50,\"b\":20})\n",
    "fig.show()"
   ]
  }
 ],
 "metadata": {
  "kernelspec": {
   "display_name": "Python 3",
   "language": "python",
   "name": "python3"
  },
  "language_info": {
   "codemirror_mode": {
    "name": "ipython",
    "version": 3
   },
   "file_extension": ".py",
   "mimetype": "text/x-python",
   "name": "python",
   "nbconvert_exporter": "python",
   "pygments_lexer": "ipython3",
   "version": "3.7.7-final"
  }
 },
 "nbformat": 4,
 "nbformat_minor": 4
}