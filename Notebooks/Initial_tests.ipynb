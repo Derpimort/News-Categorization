{
 "cells": [
  {
   "cell_type": "code",
   "execution_count": 1,
   "metadata": {},
   "outputs": [],
   "source": [
    "import os\n",
    "import numpy as np\n",
    "import pandas as pd\n",
    "\n",
    "DATA_DIR=\"data/\""
   ]
  },
  {
   "cell_type": "code",
   "execution_count": 2,
   "metadata": {},
   "outputs": [
    {
     "data": {
      "text/html": [
       "<div>\n",
       "<style scoped>\n",
       "    .dataframe tbody tr th:only-of-type {\n",
       "        vertical-align: middle;\n",
       "    }\n",
       "\n",
       "    .dataframe tbody tr th {\n",
       "        vertical-align: top;\n",
       "    }\n",
       "\n",
       "    .dataframe thead th {\n",
       "        text-align: right;\n",
       "    }\n",
       "</style>\n",
       "<table border=\"1\" class=\"dataframe\">\n",
       "  <thead>\n",
       "    <tr style=\"text-align: right;\">\n",
       "      <th></th>\n",
       "      <th>level1_categories</th>\n",
       "      <th>level_2_categories</th>\n",
       "    </tr>\n",
       "  </thead>\n",
       "  <tbody>\n",
       "    <tr>\n",
       "      <th>0</th>\n",
       "      <td>Info Tech</td>\n",
       "      <td>Info Tech</td>\n",
       "    </tr>\n",
       "    <tr>\n",
       "      <th>1</th>\n",
       "      <td>Travel &amp; Tourism</td>\n",
       "      <td>PaaS</td>\n",
       "    </tr>\n",
       "    <tr>\n",
       "      <th>2</th>\n",
       "      <td>Travel</td>\n",
       "      <td>Products</td>\n",
       "    </tr>\n",
       "    <tr>\n",
       "      <th>3</th>\n",
       "      <td>Vehicles &amp; Parts</td>\n",
       "      <td>SaaS</td>\n",
       "    </tr>\n",
       "    <tr>\n",
       "      <th>4</th>\n",
       "      <td>Automobiles</td>\n",
       "      <td>Travel &amp; Tourism</td>\n",
       "    </tr>\n",
       "  </tbody>\n",
       "</table>\n",
       "</div>"
      ],
      "text/plain": [
       "  level1_categories level_2_categories\n",
       "0         Info Tech          Info Tech\n",
       "1  Travel & Tourism               PaaS\n",
       "2            Travel           Products\n",
       "3  Vehicles & Parts               SaaS\n",
       "4       Automobiles   Travel & Tourism"
      ]
     },
     "execution_count": 2,
     "metadata": {},
     "output_type": "execute_result"
    }
   ],
   "source": [
    "cats=pd.read_csv(\"data/cat_levels.csv\")\n",
    "cats.head()"
   ]
  },
  {
   "cell_type": "code",
   "execution_count": 4,
   "metadata": {},
   "outputs": [
    {
     "data": {
      "text/html": [
       "<div>\n",
       "<style scoped>\n",
       "    .dataframe tbody tr th:only-of-type {\n",
       "        vertical-align: middle;\n",
       "    }\n",
       "\n",
       "    .dataframe tbody tr th {\n",
       "        vertical-align: top;\n",
       "    }\n",
       "\n",
       "    .dataframe thead th {\n",
       "        text-align: right;\n",
       "    }\n",
       "</style>\n",
       "<table border=\"1\" class=\"dataframe\">\n",
       "  <thead>\n",
       "    <tr style=\"text-align: right;\">\n",
       "      <th></th>\n",
       "      <th>id</th>\n",
       "      <th>category_tree</th>\n",
       "    </tr>\n",
       "  </thead>\n",
       "  <tbody>\n",
       "    <tr>\n",
       "      <th>0</th>\n",
       "      <td>21047</td>\n",
       "      <td>entertainment-&gt;bollywood</td>\n",
       "    </tr>\n",
       "    <tr>\n",
       "      <th>1</th>\n",
       "      <td>21047</td>\n",
       "      <td>News &amp; Politics -&gt; Politics -&gt; bjp -&gt; dharmend...</td>\n",
       "    </tr>\n",
       "    <tr>\n",
       "      <th>2</th>\n",
       "      <td>243958</td>\n",
       "      <td>sports -&gt; Outdoor Games - &gt; Tennis -&gt; novak dj...</td>\n",
       "    </tr>\n",
       "    <tr>\n",
       "      <th>3</th>\n",
       "      <td>243958</td>\n",
       "      <td>location -&gt; serbia</td>\n",
       "    </tr>\n",
       "  </tbody>\n",
       "</table>\n",
       "</div>"
      ],
      "text/plain": [
       "       id                                      category_tree\n",
       "0   21047                           entertainment->bollywood\n",
       "1   21047  News & Politics -> Politics -> bjp -> dharmend...\n",
       "2  243958  sports -> Outdoor Games - > Tennis -> novak dj...\n",
       "3  243958                                 location -> serbia"
      ]
     },
     "execution_count": 4,
     "metadata": {},
     "output_type": "execute_result"
    }
   ],
   "source": [
    "sample=pd.read_csv(\"data/TIL_sample_submission.csv\")\n",
    "sample"
   ]
  },
  {
   "cell_type": "code",
   "execution_count": 2,
   "metadata": {},
   "outputs": [
    {
     "name": "stdout",
     "output_type": "stream",
     "text": [
      "title|link|description|long_description|id\n"
     ]
    }
   ],
   "source": [
    "with open(DATA_DIR+\"Train_data.csv\", \"r\") as f:\n",
    "    print(f.readline().strip(\"\\n\"))\n"
   ]
  },
  {
   "cell_type": "code",
   "execution_count": 3,
   "metadata": {},
   "outputs": [],
   "source": [
    "import re\n",
    "\n",
    "\n",
    "#checks=[\"'\", '\"']\n",
    "checks=['\"']\n",
    "def unbalanced(s):\n",
    "    for check in checks:\n",
    "        if (s.count(check)-s.count(f'\\\\{check[0]}'))%2!=0:\n",
    "            return True\n",
    "    return False\n",
    "def lineCleaner(line):\n",
    "    line=line.strip(\"\\n\")\n",
    "    splitl=line.split(\"|\")\n",
    "    slen=len(splitl)\n",
    "    ids=re.findall(r'\\|([0-9]+)$',line)\n",
    "    if slen==5:\n",
    "        return splitl\n",
    "    else:\n",
    "        try:\n",
    "            lindex=0\n",
    "            res=[]\n",
    "            while(lindex<slen):\n",
    "                if unbalanced(splitl[lindex]) and lindex<slen-1:\n",
    "                    rindex=lindex+1\n",
    "                    while not unbalanced(splitl[rindex]) and rindex<slen-2:\n",
    "                        rindex+=1\n",
    "                    res+=[\" \".join(splitl[lindex:rindex+1])]\n",
    "                    lindex=rindex\n",
    "                else:\n",
    "                    res+=[splitl[lindex]]\n",
    "                lindex+=1\n",
    "#             if len(res)==6:\n",
    "#                 res[3]=res[3]+res[4]\n",
    "#                 res[]\n",
    "            if len(res)>5:\n",
    "                res[3]=\" \".join(res[3:])\n",
    "                res=res[:4]\n",
    "            if len(res)==4:\n",
    "                res+=[ids[0].strip(\"|\")]\n",
    "#             if len(res)==3:\n",
    "#                 long_desc=re.search(r'\\|([^\\|]*)\\|[0-9]*$', line)\n",
    "            if len(res)!=5:\n",
    "                res=[]\n",
    "                url=re.search(r'\\|http.*?\\|', line)\n",
    "                if url is not None:\n",
    "                    res+=[line[:url.start()]]\n",
    "                    res+=[line[url.start():url.end()]]\n",
    "                else:\n",
    "                    res+=[None, None]\n",
    "                long_desc=re.search(r'\\|([^\\|]*)\\|[0-9]*$', line)\n",
    "                if long_desc is not None:\n",
    "                    res+=[line[url.end():long_desc.start()]]\n",
    "                    res+=[line[long_desc.start():long_desc.end()]]\n",
    "                else:\n",
    "                    res+=[None, None]\n",
    "                res+=[ids[0]]\n",
    "                for i in range(5):\n",
    "                    if res[i] is not None:\n",
    "                        res[i]=res[i].strip(\"|\")\n",
    "            return res\n",
    "        except Exception as e:\n",
    "            return [None]*5\n",
    "#             res=[ids[0].strip(\"|\")]\n",
    "#             url=re.search(r'\\|http.*?\\|', line).start()\n",
    "            \n",
    "#             long_desc=re.search(r'\\|([^\\|]*)\\|[0-9]*$', line)"
   ]
  },
  {
   "cell_type": "code",
   "execution_count": 126,
   "metadata": {},
   "outputs": [],
   "source": [
    "# import re\n",
    "\n",
    "\n",
    "# #checks=[\"'\", '\"']\n",
    "# checks=['\"']\n",
    "# def unbalanced(s):\n",
    "#     for check in checks:\n",
    "#         if (s.count(check)-s.count(f'\\\\{check[0]}'))%2!=0:\n",
    "#             return True\n",
    "#     return False\n",
    "# def lineCleaner(line):\n",
    "#     line=line.strip(\"\\n\")\n",
    "#     splitl=line.split(\"|\")\n",
    "#     slen=len(splitl)\n",
    "#     ids=re.findall(r'\\|([0-9]+)$',line)\n",
    "#     if slen==5:\n",
    "#         return splitl\n",
    "#     else:\n",
    "#         try:\n",
    "#             res=[]\n",
    "#             url=re.search(r'\\|http.*?\\|', line)\n",
    "#             if url is not None:\n",
    "#                 res+=[line[:url.start()]]\n",
    "#                 res+=[line[url.start():url.end()]]\n",
    "#             else:\n",
    "#                 res+=[None, None]\n",
    "#             long_desc=re.search(r'\\|([^\\|]*)\\|[0-9]*$', line)\n",
    "#             if long_desc is not None:\n",
    "#                 res+=[line[url.end():long_desc.start()]]\n",
    "#                 res+=[line[long_desc.start():long_desc.end()]]\n",
    "#             else:\n",
    "#                 res+=[None, None]\n",
    "#             res+=[ids[0]]\n",
    "#             for i in range(5):\n",
    "#                 if res[i] is not None:\n",
    "#                     res[i]=res[i].strip(\"|\")\n",
    "#             return res\n",
    "#         except Exception as e:\n",
    "#             return [None]*5\n",
    "# #             res=[ids[0].strip(\"|\")]\n",
    "# #             url=re.search(r'\\|http.*?\\|', line).start()\n",
    "            \n",
    "# #             long_desc=re.search(r'\\|([^\\|]*)\\|[0-9]*$', line)"
   ]
  },
  {
   "cell_type": "code",
   "execution_count": 9,
   "metadata": {},
   "outputs": [
    {
     "data": {
      "application/vnd.jupyter.widget-view+json": {
       "model_id": "87802354524749b1af00d844f66d2c62",
       "version_major": 2,
       "version_minor": 0
      },
      "text/plain": [
       "HBox(children=(FloatProgress(value=0.0, max=1412721.0), HTML(value='')))"
      ]
     },
     "metadata": {},
     "output_type": "display_data"
    },
    {
     "name": "stdout",
     "output_type": "stream",
     "text": [
      "\n",
      "0\n"
     ]
    }
   ],
   "source": [
    "count=0\n",
    "with open(DATA_DIR+\"Train_data.csv\", \"r\") as f:\n",
    "    for line in tqdm(f, total=1412721):\n",
    "        if line.find(u'\\u0001')!=-1:\n",
    "            count+=1\n",
    "print(count)"
   ]
  },
  {
   "cell_type": "code",
   "execution_count": null,
   "metadata": {},
   "outputs": [],
   "source": [
    "count=0\n",
    "badcount=0\n",
    "with open(DATA_DIR+\"Train_data.csv\", \"r\") as f:\n",
    "    for line in f:\n",
    "        if len(line.split(\"|\"))>5:\n",
    "            try:\n",
    "                if len(line[re.search(r'\\|http.*?\\|', line).start():].split(\"|\"))>5:\n",
    "                    count+=1\n",
    "                    if count<10:\n",
    "                        print(line)\n",
    "            except:\n",
    "                count+=1"
   ]
  },
  {
   "cell_type": "code",
   "execution_count": 16,
   "metadata": {},
   "outputs": [
    {
     "data": {
      "text/plain": [
       "1412721"
      ]
     },
     "execution_count": 16,
     "metadata": {},
     "output_type": "execute_result"
    }
   ],
   "source": [
    "count"
   ]
  },
  {
   "cell_type": "code",
   "execution_count": 137,
   "metadata": {},
   "outputs": [
    {
     "data": {
      "text/plain": [
       "78"
      ]
     },
     "execution_count": 137,
     "metadata": {},
     "output_type": "execute_result"
    }
   ],
   "source": [
    "badcount"
   ]
  },
  {
   "cell_type": "code",
   "execution_count": 168,
   "metadata": {},
   "outputs": [
    {
     "data": {
      "application/vnd.jupyter.widget-view+json": {
       "model_id": "9cf2669e51b349dc9868d2e27475e3be",
       "version_major": 2,
       "version_minor": 0
      },
      "text/plain": [
       "HBox(children=(FloatProgress(value=0.0, max=1411103.0), HTML(value='')))"
      ]
     },
     "metadata": {},
     "output_type": "display_data"
    },
    {
     "name": "stdout",
     "output_type": "stream",
     "text": [
      "\n"
     ]
    }
   ],
   "source": [
    "from csv import reader\n",
    "count=0\n",
    "with open(DATA_DIR+\"Train_data.csv\", \"r\") as f:\n",
    "    feader=f.readline().strip(\"\\n\")\n",
    "    rc=reader(f, delimiter=\"|\", quotechar='\"')\n",
    "    for row in tqdm(rc, total=1411103):\n",
    "        try:\n",
    "            int(row[-1])\n",
    "        except Exception as e:\n",
    "            count+=1\n",
    "            print(row)"
   ]
  },
  {
   "cell_type": "code",
   "execution_count": null,
   "metadata": {},
   "outputs": [
    {
     "data": {
      "application/vnd.jupyter.widget-view+json": {
       "model_id": "ea0ed0c13121442da36b258c2420e80e",
       "version_major": 2,
       "version_minor": 0
      },
      "text/plain": [
       "HBox(children=(FloatProgress(value=0.0, max=1411103.0), HTML(value='')))"
      ]
     },
     "metadata": {},
     "output_type": "display_data"
    }
   ],
   "source": [
    "from io import StringIO\n",
    "from csv import writer, reader \n",
    "import pandas as pd\n",
    "from tqdm.auto import tqdm\n",
    "\n",
    "output = StringIO()\n",
    "csv_writer = writer(output, delimiter=u'\\u0001')\n",
    "\n",
    "bad_rows=[]\n",
    "\n",
    "with open(DATA_DIR+\"Train_data.csv\", \"r\") as f:\n",
    "    header=f.readline().strip(\"\\n\")\n",
    "    csv_writer.writerow(header.split(\"|\"))\n",
    "    rc=reader(f, delimiter=\"|\", quotechar='\"')\n",
    "    for row in tqdm(rc, total=1411103):\n",
    "        if len(row)!=5:\n",
    "            try:\n",
    "                row_new=lineCleaner(\"|\".join(row))\n",
    "                int(row_new[-1])\n",
    "            except Exception as e:\n",
    "                bad_rows+=[row]\n",
    "                row_new=[None, None, None, None, row[-1]]\n",
    "            finally:\n",
    "                row=row_new\n",
    "        csv_writer.writerow(row)\n",
    "        \n",
    "\n",
    "output.seek(0)\n",
    "df_first = pd.read_csv(output, sep=u'\\u0001')\n",
    "df_first.head()\n"
   ]
  },
  {
   "cell_type": "code",
   "execution_count": 17,
   "metadata": {},
   "outputs": [
    {
     "data": {
      "text/plain": [
       "71088"
      ]
     },
     "execution_count": 17,
     "metadata": {},
     "output_type": "execute_result"
    }
   ],
   "source": [
    "badcount"
   ]
  },
  {
   "cell_type": "code",
   "execution_count": null,
   "metadata": {},
   "outputs": [],
   "source": [
    "cats=pd.read_csv(DATA_DIR+\"cat_levels.csv\")\n",
    "sample=pd.read_csv(DATA_DIR+\"TIL_sample_submission.csv\")\n",
    "df=pd.read_csv(DATA_DIR+\"Train_data.csv\")"
   ]
  },
  {
   "cell_type": "code",
   "execution_count": 4,
   "metadata": {},
   "outputs": [
    {
     "data": {
      "text/html": [
       "<div>\n",
       "<style scoped>\n",
       "    .dataframe tbody tr th:only-of-type {\n",
       "        vertical-align: middle;\n",
       "    }\n",
       "\n",
       "    .dataframe tbody tr th {\n",
       "        vertical-align: top;\n",
       "    }\n",
       "\n",
       "    .dataframe thead th {\n",
       "        text-align: right;\n",
       "    }\n",
       "</style>\n",
       "<table border=\"1\" class=\"dataframe\">\n",
       "  <thead>\n",
       "    <tr style=\"text-align: right;\">\n",
       "      <th></th>\n",
       "      <th>id</th>\n",
       "      <th>category_tree</th>\n",
       "    </tr>\n",
       "  </thead>\n",
       "  <tbody>\n",
       "    <tr>\n",
       "      <th>0</th>\n",
       "      <td>21047</td>\n",
       "      <td>entertainment-&gt;bollywood</td>\n",
       "    </tr>\n",
       "    <tr>\n",
       "      <th>1</th>\n",
       "      <td>21047</td>\n",
       "      <td>News &amp; Politics -&gt; Politics -&gt; bjp -&gt; dharmend...</td>\n",
       "    </tr>\n",
       "    <tr>\n",
       "      <th>2</th>\n",
       "      <td>243958</td>\n",
       "      <td>sports -&gt; Outdoor Games - &gt; Tennis -&gt; novak dj...</td>\n",
       "    </tr>\n",
       "    <tr>\n",
       "      <th>3</th>\n",
       "      <td>243958</td>\n",
       "      <td>location -&gt; serbia</td>\n",
       "    </tr>\n",
       "  </tbody>\n",
       "</table>\n",
       "</div>"
      ],
      "text/plain": [
       "       id                                      category_tree\n",
       "0   21047                           entertainment->bollywood\n",
       "1   21047  News & Politics -> Politics -> bjp -> dharmend...\n",
       "2  243958  sports -> Outdoor Games - > Tennis -> novak dj...\n",
       "3  243958                                 location -> serbia"
      ]
     },
     "execution_count": 4,
     "metadata": {},
     "output_type": "execute_result"
    }
   ],
   "source": [
    "sample"
   ]
  },
  {
   "cell_type": "code",
   "execution_count": null,
   "metadata": {},
   "outputs": [],
   "source": [
    "df_train['link'].to_csv(DATA_DIR+\"links.csv\", sep=u'\\u0001')"
   ]
  }
 ],
 "metadata": {
  "kernelspec": {
   "display_name": "Python 3",
   "language": "python",
   "name": "python3"
  },
  "language_info": {
   "codemirror_mode": {
    "name": "ipython",
    "version": 3
   },
   "file_extension": ".py",
   "mimetype": "text/x-python",
   "name": "python",
   "nbconvert_exporter": "python",
   "pygments_lexer": "ipython3",
   "version": "3.7.6"
  }
 },
 "nbformat": 4,
 "nbformat_minor": 4
}
